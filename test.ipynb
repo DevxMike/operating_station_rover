{
 "metadata": {
  "language_info": {
   "codemirror_mode": {
    "name": "ipython",
    "version": 3
   },
   "file_extension": ".py",
   "mimetype": "text/x-python",
   "name": "python",
   "nbconvert_exporter": "python",
   "pygments_lexer": "ipython3",
   "version": "3.8.10"
  },
  "orig_nbformat": 4,
  "kernelspec": {
   "name": "python3",
   "display_name": "Python 3.8.10 64-bit"
  },
  "interpreter": {
   "hash": "916dbcbb3f70747c44a77c7bcd40155683ae19c65e1c03b4aa3499c5328201f1"
  }
 },
 "nbformat": 4,
 "nbformat_minor": 2,
 "cells": [
  {
   "cell_type": "code",
   "execution_count": 1,
   "metadata": {
    "tags": []
   },
   "outputs": [
    {
     "output_type": "stream",
     "name": "stdout",
     "text": [
      "pygame 2.1.2 (SDL 2.0.16, Python 3.8.10)\n",
      "Hello from the pygame community. https://www.pygame.org/contribute.html\n",
      "['Logitech Extreme 3D']\n"
     ]
    }
   ],
   "source": [
    "import pygame\n",
    "from multiprocessing import Process, Pipe\n",
    "\n",
    "joysticks = []\n",
    "pygame.init()\n",
    "joysticks = [pygame.joystick.Joystick(x).get_name() for x in range(pygame.joystick.get_count())]\n",
    "while joysticks == []:\n",
    "    pygame.quit()\n",
    "    pygame.init()\n",
    "    joysticks = [pygame.joystick.Joystick(x).get_name() for x in range(pygame.joystick.get_count())]\n",
    "print(joysticks)"
   ]
  },
  {
   "cell_type": "code",
   "execution_count": 2,
   "metadata": {},
   "outputs": [
    {
     "output_type": "stream",
     "name": "stdout",
     "text": [
      "chuj\n"
     ]
    }
   ],
   "source": [
    "if(type({}) == dict):\n",
    "    print(\"chuj\")"
   ]
  }
 ]
}