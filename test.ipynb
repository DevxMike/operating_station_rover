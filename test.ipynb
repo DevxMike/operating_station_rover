{
 "metadata": {
  "language_info": {
   "codemirror_mode": {
    "name": "ipython",
    "version": 3
   },
   "file_extension": ".py",
   "mimetype": "text/x-python",
   "name": "python",
   "nbconvert_exporter": "python",
   "pygments_lexer": "ipython3",
   "version": "3.8.10"
  },
  "orig_nbformat": 4,
  "kernelspec": {
   "name": "python3",
   "display_name": "Python 3.8.10 64-bit"
  },
  "interpreter": {
   "hash": "916dbcbb3f70747c44a77c7bcd40155683ae19c65e1c03b4aa3499c5328201f1"
  }
 },
 "nbformat": 4,
 "nbformat_minor": 2,
 "cells": [
  {
   "cell_type": "code",
   "execution_count": 1,
   "metadata": {
    "tags": []
   },
   "outputs": [
    {
     "output_type": "stream",
     "name": "stdout",
     "text": [
      "pygame 2.1.2 (SDL 2.0.16, Python 3.8.10)\n",
      "Hello from the pygame community. https://www.pygame.org/contribute.html\n",
      "['Logitech Extreme 3D']\n"
     ]
    }
   ],
   "source": [
    "import pygame\n",
    "from multiprocessing import Process, Pipe\n",
    "\n",
    "joysticks = []\n",
    "pygame.init()\n",
    "joysticks = [pygame.joystick.Joystick(x).get_name() for x in range(pygame.joystick.get_count())]\n",
    "while joysticks == []:\n",
    "    pygame.quit()\n",
    "    pygame.init()\n",
    "    joysticks = [pygame.joystick.Joystick(x).get_name() for x in range(pygame.joystick.get_count())]\n",
    "print(joysticks)"
   ]
  },
  {
   "cell_type": "code",
   "execution_count": 2,
   "metadata": {},
   "outputs": [
    {
     "output_type": "stream",
     "name": "stdout",
     "text": [
      "chuj\n"
     ]
    }
   ],
   "source": [
    "if(type({}) == dict):\n",
    "    print(\"chuj\")"
   ]
  },
  {
   "cell_type": "code",
   "execution_count": 2,
   "metadata": {},
   "outputs": [
    {
     "output_type": "stream",
     "name": "stdout",
     "text": [
      "[['h'], [1]]\n[['m'], [2]]\n"
     ]
    }
   ],
   "source": [
    "tmp = { 'h' : 1, 'm' : 2}\n",
    "\n",
    "for k,v in tmp.items():\n",
    "    print([[k], [v]])"
   ]
  },
  {
   "cell_type": "code",
   "execution_count": 44,
   "metadata": {},
   "outputs": [],
   "source": [
    "from struct import pack, unpack\n",
    "\n",
    "class Packet:\n",
    "    def __init__(self, message_type: int, message: str) -> None:\n",
    "        self.start = 0x69\n",
    "        self.message_type = message_type\n",
    "        self.message_lengh = len(message) % 256\n",
    "        self.crc = (sum([ord(c) for c in message]) + len(message)) % 256\n",
    "        self.message = message\n",
    "\n",
    "    def get_packet(self) -> bytearray:\n",
    "        header = pack(\n",
    "            f\"BBBB\",\n",
    "            self.start,\n",
    "            self.message_type,\n",
    "            self.message_lengh,\n",
    "            self.crc,\n",
    "        )\n",
    "        return header + self.message.encode(\"ascii\")\n",
    "\n",
    "class dePacket:\n",
    "    def __init__(self, callback):\n",
    "        self.start = 0\n",
    "        self.message_type = 0\n",
    "        self.message_lenght = 0\n",
    "        self.crc = 0\n",
    "        self.payload = []\n",
    "        self.deserializer_state = 0\n",
    "        self.callback = callback\n",
    "    # waiting_for_start = 0,\n",
    "    #     waiting_for_type = 1,\n",
    "    #     waiting_for_len = 2,\n",
    "    #     waiting_for_crc = 3,\n",
    "    #     data_acquisition = 4\n",
    "    def deserialize(self, data):\n",
    "        for i in range(len(data)):  \n",
    "            s = self.deserializer_state\n",
    "            tmp = data[i]\n",
    "            packet_start = 0x69\n",
    "\n",
    "            # case waiting_for_start:\n",
    "            if(s == 0):\n",
    "                if(tmp == packet_start):\n",
    "                    self.start = tmp\n",
    "                    self.payload = []\n",
    "                    self.deserializer_state = 1\n",
    "                    \n",
    "            \n",
    "            # case waiting_for_type:\n",
    "            elif(s == 1):\n",
    "                self.message_type = tmp\n",
    "                self.deserializer_state = 2\n",
    "                \n",
    "\n",
    "            # case waiting_for_len:\n",
    "            elif(s == 2):\n",
    "                self.message_lenght = tmp\n",
    "                self.deserializer_state = 3\n",
    "                \n",
    "            \n",
    "            # case waiting_for_crc:\n",
    "            elif(s == 3):\n",
    "                self.crc = tmp\n",
    "                self.deserializer_state = 4\n",
    "                \n",
    "            # case data_acquisition:\n",
    "            elif(s == 4):\n",
    "                self.payload.append(tmp)\n",
    "\n",
    "            print(f'{len(self.payload)}, {self.message_lenght}, {self.deserializer_state }, {tmp}')\n",
    "            if(len(self.payload) == self.message_lenght and self.deserializer_state == 4):\n",
    "                tmp_crc = (sum([ord(c) for c in str(bytes(self.payload), 'utf-8')]) + len(self.payload)) % 256\n",
    "\n",
    "                if(tmp_crc == self.crc):\n",
    "                    self.callback(self.message_type, self.payload)\n",
    "                \n",
    "                if(i > 0): \n",
    "                    i -= 1\n",
    "                self.deserializer_state = 0\n",
    "\n",
    "def callback(type, payload):\n",
    "    print(f\"Received a packet. Type: {type}, Payload: {payload}\")"
   ]
  },
  {
   "cell_type": "code",
   "execution_count": 48,
   "metadata": {},
   "outputs": [
    {
     "output_type": "stream",
     "name": "stdout",
     "text": [
      "<__main__.Packet object at 0x7fef68a13760>\n0, 0, 1, 105\n0, 0, 2, 1\n0, 0, 3, 0\n0, 0, 4, 0\nReceived a packet. Type: 1, Payload: []\n"
     ]
    }
   ],
   "source": [
    "tmp = Packet(1, '')\n",
    "print(tmp)\n",
    "deserializer = dePacket(callback)\n",
    "\n",
    "p = tmp.get_packet()\n",
    "\n",
    "deserializer.deserialize(p[0:1])\n"
   ]
  },
  {
   "cell_type": "code",
   "execution_count": null,
   "metadata": {},
   "outputs": [],
   "source": []
  }
 ]
}